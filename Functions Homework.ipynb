{
 "cells": [
  {
   "cell_type": "code",
   "execution_count": 25,
   "id": "94b831eb",
   "metadata": {},
   "outputs": [],
   "source": [
    "# Write a function that computes the volume of a sphere given its radius\n",
    "def vol(rad):\n",
    "    return (rad**3 * (4/3) * 3.14)"
   ]
  },
  {
   "cell_type": "code",
   "execution_count": 24,
   "id": "a1cbe086",
   "metadata": {},
   "outputs": [
    {
     "data": {
      "text/plain": [
       "[33.49333333333333]"
      ]
     },
     "execution_count": 24,
     "metadata": {},
     "output_type": "execute_result"
    }
   ],
   "source": [
    "vol(2)"
   ]
  },
  {
   "cell_type": "code",
   "execution_count": 35,
   "id": "68eed404",
   "metadata": {},
   "outputs": [],
   "source": [
    "# Write a function that checks whether a number is in a given range (inclusive of high and low) - Boolean\n",
    "def ran_bool(num,low,high):\n",
    "    if low < num < high:\n",
    "        return True\n",
    "    else:\n",
    "        return False"
   ]
  },
  {
   "cell_type": "code",
   "execution_count": 37,
   "id": "de4f0a0a",
   "metadata": {},
   "outputs": [
    {
     "data": {
      "text/plain": [
       "True"
      ]
     },
     "execution_count": 37,
     "metadata": {},
     "output_type": "execute_result"
    }
   ],
   "source": [
    "ran_bool(5,1,10)"
   ]
  },
  {
   "cell_type": "code",
   "execution_count": 149,
   "id": "63c31f73",
   "metadata": {},
   "outputs": [],
   "source": [
    "# Write a function that checks whether a number is in given range (inclusive of high and low)\n",
    "def ran_check(num,low,high):\n",
    "    if low < num < high:\n",
    "        print(f'{num} is in range of {low} and {high}')"
   ]
  },
  {
   "cell_type": "code",
   "execution_count": 150,
   "id": "eff3436f",
   "metadata": {},
   "outputs": [
    {
     "name": "stdout",
     "output_type": "stream",
     "text": [
      "5 is in range of 2 and 7\n"
     ]
    }
   ],
   "source": [
    "ran_check(5,2,7)"
   ]
  },
  {
   "cell_type": "code",
   "execution_count": 207,
   "id": "18d1d57c",
   "metadata": {},
   "outputs": [],
   "source": [
    "# Write a function that accepts a string and calculates the nummber of upper and lower case letters\n",
    "def up_low(s):\n",
    "    \n",
    "    upper_count = 0\n",
    "    lower_count = 0\n",
    "    \n",
    "    for letter in s:\n",
    "        if letter.isupper():\n",
    "            upper_count = upper_count + 1\n",
    "        elif letter.islower():\n",
    "            lower_count = lower_count + 1\n",
    "    \n",
    "    print(f'No. of Upper case characters : {upper_count}')\n",
    "    print(f'No. of Lower case characters : {lower_count}')\n",
    "   "
   ]
  },
  {
   "cell_type": "code",
   "execution_count": 208,
   "id": "7786e542",
   "metadata": {},
   "outputs": [
    {
     "name": "stdout",
     "output_type": "stream",
     "text": [
      "No. of Upper case characters : 4\n",
      "No. of Lower case characters : 33\n"
     ]
    }
   ],
   "source": [
    "up_low('Hello Mr. Rogers, how are you this fine Tuesday?')"
   ]
  },
  {
   "cell_type": "code",
   "execution_count": 246,
   "id": "24632cbb",
   "metadata": {},
   "outputs": [],
   "source": [
    "# Write a function that takes a list and returns a new list with unique elements of the first list\n",
    "def unique_list(lst):\n",
    "    ulst = []\n",
    "    for num in lst:\n",
    "        if num not in ulst:\n",
    "            ulst.append(num)\n",
    "    return ulst\n",
    "    "
   ]
  },
  {
   "cell_type": "code",
   "execution_count": 247,
   "id": "88450f79",
   "metadata": {},
   "outputs": [
    {
     "data": {
      "text/plain": [
       "[1, 2, 3, 4, 5]"
      ]
     },
     "execution_count": 247,
     "metadata": {},
     "output_type": "execute_result"
    }
   ],
   "source": [
    "unique_list([1,1,1,1,2,2,3,3,3,3,4,5])"
   ]
  },
  {
   "cell_type": "code",
   "execution_count": 261,
   "id": "be0f798f",
   "metadata": {},
   "outputs": [],
   "source": [
    "# Write a function to multiply all numbers in a list\n",
    "def multiply(numbers):\n",
    "    product = 1\n",
    "    for num in numbers:\n",
    "        product *= num\n",
    "    return product"
   ]
  },
  {
   "cell_type": "code",
   "execution_count": 262,
   "id": "e996b268",
   "metadata": {},
   "outputs": [
    {
     "data": {
      "text/plain": [
       "-24"
      ]
     },
     "execution_count": 262,
     "metadata": {},
     "output_type": "execute_result"
    }
   ],
   "source": [
    "multiply([1,2,3,-4])"
   ]
  },
  {
   "cell_type": "code",
   "execution_count": 272,
   "id": "1dff156a",
   "metadata": {},
   "outputs": [],
   "source": [
    "# Write a function that checks whether a word or phrase is a palindrome or not\n",
    "def palindrome(word):\n",
    "    if word == word[::-1]:\n",
    "        return True\n",
    "    else:\n",
    "        return False"
   ]
  },
  {
   "cell_type": "code",
   "execution_count": 273,
   "id": "7eedd29e",
   "metadata": {},
   "outputs": [
    {
     "data": {
      "text/plain": [
       "True"
      ]
     },
     "execution_count": 273,
     "metadata": {},
     "output_type": "execute_result"
    }
   ],
   "source": [
    "palindrome('helleh')"
   ]
  },
  {
   "cell_type": "code",
   "execution_count": 453,
   "id": "aa6f50a4",
   "metadata": {},
   "outputs": [],
   "source": [
    "# Write a function to check whether a string is pangram or not.\n",
    "import string\n",
    "\n",
    "def ispangram(str1):\n",
    "    \n",
    "    alphabet = string.ascii_lowercase\n",
    "    str1 = str1.lower().replace(' ','')\n",
    "   \n",
    "    reference = ['a','b','c','d','e','f','g','h','i','j','k','l','m','n','o','p','q','r','s','t','u','v','w','x','y','z']\n",
    "    letters = []\n",
    "    uletters = []\n",
    "        \n",
    "    for letter in str1:\n",
    "        if letter in alphabet:\n",
    "            letters.append(letter)\n",
    "        else:\n",
    "            pass\n",
    "   \n",
    "    for letter in letters:\n",
    "        if letter not in uletters:\n",
    "            uletters.append(letter)\n",
    "        else:\n",
    "            pass\n",
    "    \n",
    "    uletters.sort()\n",
    "    if uletters == reference:\n",
    "        return True\n",
    "    else:\n",
    "        return False"
   ]
  },
  {
   "cell_type": "code",
   "execution_count": 454,
   "id": "1b573cb1",
   "metadata": {},
   "outputs": [
    {
     "data": {
      "text/plain": [
       "True"
      ]
     },
     "execution_count": 454,
     "metadata": {},
     "output_type": "execute_result"
    }
   ],
   "source": [
    "ispangram(\"The quick brown fox jumps over the lazy dog\")"
   ]
  },
  {
   "cell_type": "code",
   "execution_count": null,
   "id": "9526bea2",
   "metadata": {},
   "outputs": [],
   "source": []
  },
  {
   "cell_type": "code",
   "execution_count": null,
   "id": "bfb84cce",
   "metadata": {},
   "outputs": [],
   "source": []
  },
  {
   "cell_type": "code",
   "execution_count": null,
   "id": "af472b5d",
   "metadata": {},
   "outputs": [],
   "source": []
  }
 ],
 "metadata": {
  "kernelspec": {
   "display_name": "Python 3 (ipykernel)",
   "language": "python",
   "name": "python3"
  },
  "language_info": {
   "codemirror_mode": {
    "name": "ipython",
    "version": 3
   },
   "file_extension": ".py",
   "mimetype": "text/x-python",
   "name": "python",
   "nbconvert_exporter": "python",
   "pygments_lexer": "ipython3",
   "version": "3.10.9"
  }
 },
 "nbformat": 4,
 "nbformat_minor": 5
}
